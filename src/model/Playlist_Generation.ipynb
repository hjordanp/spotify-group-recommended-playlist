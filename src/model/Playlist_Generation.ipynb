{
 "cells": [
  {
   "cell_type": "code",
   "execution_count": 5,
   "metadata": {},
   "outputs": [],
   "source": [
    "import pandas as pd\n",
    "import numpy as np\n",
    "from numpy import loadtxt\n",
    "from keras.models import Sequential, load_model\n",
    "from keras.layers import Dense\n",
    "from sklearn.model_selection import train_test_split"
   ]
  },
  {
   "cell_type": "markdown",
   "metadata": {},
   "source": [
    "# Load Data"
   ]
  },
  {
   "cell_type": "code",
   "execution_count": 36,
   "metadata": {
    "scrolled": true
   },
   "outputs": [
    {
     "name": "stdout",
     "output_type": "stream",
     "text": [
      "[[0.689  0.632  0.0534 ... 0.363  0.112  0.0869]\n",
      " [0.741  0.948  0.0439 ... 0.827  0.103  0.177 ]\n",
      " [0.764  0.954  0.0588 ... 0.845  0.102  0.317 ]\n",
      " ...\n",
      " [0.0643 0.0704 0.039  ... 0.767  0.0886 0.0674]\n",
      " [0.497  0.537  0.0487 ... 0.849  0.104  0.146 ]\n",
      " [0.23   0.168  0.0481 ... 0.906  0.0967 0.0908]]\n",
      "   playlist_name                track.id                     track.name\n",
      "0  Techno Bunker  7Azu6woSBIL0Gwj3Y79bn5                Maybe I'm Wrong\n",
      "1  Techno Bunker  5tzcReCKuj6qYbQQVS0ehG  Cryptic Speech - Original Mix\n",
      "2  Techno Bunker  2ULBxi4DNecLbc9u9qUuFc                       The Game\n",
      "3  Techno Bunker  2ZuiSlPG1f0zkP5lFPxzQL                      Knaldrang\n",
      "4  Techno Bunker  5k5TtPbBNyTy5F7o0TqKVP                    Hyper World\n"
     ]
    }
   ],
   "source": [
    "# load the dataset\n",
    "dataset = pd.read_csv('../../data/raw/random_playlists_songs.csv')\n",
    "# Clean and convert dataset to numpy array\n",
    "#dataset.dropna(inplace=True)\n",
    "song_features = dataset[['danceability','energy','speechiness','acousticness','instrumentalness','liveness','valence']]\n",
    "song_features = song_features.to_numpy()\n",
    "song_information = dataset[['playlist_name', 'track.id', 'track.name']]\n",
    "print(song_features)\n",
    "print(song_information.head())"
   ]
  },
  {
   "cell_type": "markdown",
   "metadata": {},
   "source": [
    "# Load Neural Network Model"
   ]
  },
  {
   "cell_type": "code",
   "execution_count": 37,
   "metadata": {},
   "outputs": [],
   "source": [
    "neural_network = load_model('../../models/neural_network.h5')"
   ]
  },
  {
   "cell_type": "markdown",
   "metadata": {},
   "source": [
    "# Classify songs"
   ]
  },
  {
   "cell_type": "code",
   "execution_count": 38,
   "metadata": {},
   "outputs": [
    {
     "name": "stdout",
     "output_type": "stream",
     "text": [
      "0.0\n"
     ]
    }
   ],
   "source": [
    "cancion = [[0.689,  0.632,  0.0534, 0.0483, 0.363,  0.112,  0.0869]]\n",
    "prediction=neural_network.predict(cancion) \n",
    "song_class=np.round(prediction,0)\n",
    "print(song_class[0][0])"
   ]
  },
  {
   "cell_type": "code",
   "execution_count": 39,
   "metadata": {},
   "outputs": [
    {
     "name": "stdout",
     "output_type": "stream",
     "text": [
      "            playlist_name                track.id  \\\n",
      "69    Sweet Soul Chillout  0wtHjEAzLYYyGuk2WtpGwS   \n",
      "75    Sweet Soul Chillout  111BQRr9rRMHTn69KamC4Z   \n",
      "76    Sweet Soul Chillout  3jOwA8XZplvTVsV0SdLWhc   \n",
      "80    Sweet Soul Chillout  55bvjj1m7GbJwABrsBRx3D   \n",
      "83    Sweet Soul Chillout  0IUTOvJZ6brXtvMZWipush   \n",
      "...                   ...                     ...   \n",
      "4062              Nu-Blue  0Xg38XEeI0xRYODGTuFH55   \n",
      "4064              Nu-Blue  6pmLL6nZ87l0ztMFi0jjno   \n",
      "4066              Nu-Blue  2WExnKzXQ0Q304vYN5TOhW   \n",
      "4073   Ambient Essentials  1i8MaQec4fQXj1enX8ZWF4   \n",
      "4151   Ambient Essentials  5rlG4Fnws22Ecu6aXctE33   \n",
      "\n",
      "                                            track.name  \n",
      "69                                                Easy  \n",
      "75                                 For Once In My Life  \n",
      "76                                      Rhythm Of Life  \n",
      "80                                Just The Way You Are  \n",
      "83                                     What's Going On  \n",
      "...                                                ...  \n",
      "4062                                     Ice Cream Man  \n",
      "4064                                         Coldwater  \n",
      "4066                              United State of Mind  \n",
      "4073                                 Boreal Kiss Pt. 1  \n",
      "4151  2. Satz: Gewitter (Energy Rise - Energy Collaps)  \n",
      "\n",
      "[1375 rows x 3 columns]\n"
     ]
    }
   ],
   "source": [
    "def classify(song):    \n",
    "    prediction=neural_network.predict([list(song)]) \n",
    "    song_class=np.round(prediction,0)\n",
    "    return round(song_class[0][0])\n",
    "\n",
    "new_playlist = song_information.copy()\n",
    "for index, row in song_information.iterrows():\n",
    "    song_class = classify(song_features[index])\n",
    "    if song_class == 0:\n",
    "        new_playlist.drop(new_playlist.loc[new_playlist['track.id']==row['track.id']].index,  inplace=True)\n",
    "        \n",
    "    else:\n",
    "        #print('song name included: ', row['track.name'])\n",
    "        None\n",
    "\n",
    "    \n",
    "print(new_playlist)"
   ]
  },
  {
   "cell_type": "markdown",
   "metadata": {},
   "source": [
    "# Save Playlist data"
   ]
  },
  {
   "cell_type": "code",
   "execution_count": 40,
   "metadata": {},
   "outputs": [],
   "source": [
    "new_playlist.to_csv('../../data/processed/group_playlist_songs.csv')"
   ]
  }
 ],
 "metadata": {
  "kernelspec": {
   "display_name": "Python 3",
   "language": "python",
   "name": "python3"
  },
  "language_info": {
   "codemirror_mode": {
    "name": "ipython",
    "version": 3
   },
   "file_extension": ".py",
   "mimetype": "text/x-python",
   "name": "python",
   "nbconvert_exporter": "python",
   "pygments_lexer": "ipython3",
   "version": "3.7.2"
  },
  "toc": {
   "base_numbering": 1,
   "nav_menu": {},
   "number_sections": true,
   "sideBar": true,
   "skip_h1_title": false,
   "title_cell": "Table of Contents",
   "title_sidebar": "Contents",
   "toc_cell": false,
   "toc_position": {},
   "toc_section_display": true,
   "toc_window_display": false
  }
 },
 "nbformat": 4,
 "nbformat_minor": 4
}
