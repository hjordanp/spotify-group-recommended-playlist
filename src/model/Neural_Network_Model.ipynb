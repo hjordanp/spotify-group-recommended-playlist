{
 "cells": [
  {
   "cell_type": "code",
   "execution_count": 1,
   "metadata": {},
   "outputs": [],
   "source": [
    "import pandas as pd\n",
    "import numpy as np\n",
    "from numpy import loadtxt\n",
    "from keras.models import Sequential\n",
    "from keras.layers import Dense\n",
    "from sklearn.model_selection import train_test_split"
   ]
  },
  {
   "cell_type": "markdown",
   "metadata": {},
   "source": [
    "https://machinelearningmastery.com/tutorial-first-neural-network-python-keras/"
   ]
  },
  {
   "cell_type": "markdown",
   "metadata": {},
   "source": [
    "# Load Data"
   ]
  },
  {
   "cell_type": "code",
   "execution_count": 37,
   "metadata": {
    "scrolled": true
   },
   "outputs": [
    {
     "name": "stdout",
     "output_type": "stream",
     "text": [
      "[[0.38   0.61   0.0359 ... 0.221  0.431  1.    ]\n",
      " [0.521  0.948  0.102  ... 0.332  0.753  1.    ]\n",
      " [0.553  0.924  0.0943 ... 0.417  0.71   1.    ]\n",
      " ...\n",
      " [0.503  0.503  0.0484 ... 0.284  0.473  0.    ]\n",
      " [0.525  0.929  0.0598 ... 0.0542 0.503  0.    ]\n",
      " [0.503  0.548  0.164  ... 0.145  0.441  0.    ]]\n"
     ]
    }
   ],
   "source": [
    "# load the dataset\n",
    "dataset = pd.read_csv('../../data/processed/labeled_songs.csv')\n",
    "# Clean and convert dataset to numpy array\n",
    "dataset['label'] = dataset.apply(lambda row: 1 if row['label']=='yes' else 0, axis=1)\n",
    "dataset = dataset[['danceability','energy','speechiness','acousticness','instrumentalness','liveness','valence','label']]\n",
    "dataset = dataset.to_numpy()\n",
    "print(dataset)\n",
    "# Split matrix into data and labels\n",
    "data = dataset[:,0:7]\n",
    "labels = dataset[:,7]"
   ]
  },
  {
   "cell_type": "code",
   "execution_count": 3,
   "metadata": {},
   "outputs": [],
   "source": [
    "# Split dataset into 80% traning and 20% test subsets\n",
    "data_train, data_test, labels_train, labels_test = train_test_split(data, labels, test_size=0.20, random_state=42)\n"
   ]
  },
  {
   "cell_type": "markdown",
   "metadata": {},
   "source": [
    "# Define Keras Model"
   ]
  },
  {
   "cell_type": "code",
   "execution_count": 4,
   "metadata": {},
   "outputs": [],
   "source": [
    "# Define the keras model\n",
    "model = Sequential()\n",
    "model.add(Dense(12, input_dim=7, activation='relu')) # Same number of audio features - in this example 12\n",
    "model.add(Dense(8, activation='relu'))\n",
    "model.add(Dense(1, activation='sigmoid'))"
   ]
  },
  {
   "cell_type": "markdown",
   "metadata": {},
   "source": [
    "# Compile Keras Model"
   ]
  },
  {
   "cell_type": "code",
   "execution_count": 5,
   "metadata": {},
   "outputs": [],
   "source": [
    "# Compile the keras model\n",
    "model.compile(loss='binary_crossentropy', optimizer='adam', metrics=['accuracy'])"
   ]
  },
  {
   "cell_type": "markdown",
   "metadata": {},
   "source": [
    "# Fit Keras Model"
   ]
  },
  {
   "cell_type": "code",
   "execution_count": 6,
   "metadata": {},
   "outputs": [
    {
     "name": "stdout",
     "output_type": "stream",
     "text": [
      "Epoch 1/150\n",
      "425/425 [==============================] - 1s 725us/step - loss: 0.6056 - accuracy: 0.6370\n",
      "Epoch 2/150\n",
      "425/425 [==============================] - 0s 809us/step - loss: 0.5021 - accuracy: 0.7041\n",
      "Epoch 3/150\n",
      "425/425 [==============================] - 0s 708us/step - loss: 0.4539 - accuracy: 0.7542\n",
      "Epoch 4/150\n",
      "425/425 [==============================] - 0s 700us/step - loss: 0.4134 - accuracy: 0.7832\n",
      "Epoch 5/150\n",
      "425/425 [==============================] - 0s 726us/step - loss: 0.3804 - accuracy: 0.8145\n",
      "Epoch 6/150\n",
      "425/425 [==============================] - 0s 724us/step - loss: 0.3557 - accuracy: 0.8326\n",
      "Epoch 7/150\n",
      "425/425 [==============================] - 0s 687us/step - loss: 0.3374 - accuracy: 0.8496\n",
      "Epoch 8/150\n",
      "425/425 [==============================] - 0s 765us/step - loss: 0.3223 - accuracy: 0.8550\n",
      "Epoch 9/150\n",
      "425/425 [==============================] - 0s 851us/step - loss: 0.3122 - accuracy: 0.8592\n",
      "Epoch 10/150\n",
      "425/425 [==============================] - 0s 702us/step - loss: 0.3018 - accuracy: 0.8668\n",
      "Epoch 11/150\n",
      "425/425 [==============================] - 0s 726us/step - loss: 0.2924 - accuracy: 0.8712\n",
      "Epoch 12/150\n",
      "425/425 [==============================] - 0s 730us/step - loss: 0.2825 - accuracy: 0.8757\n",
      "Epoch 13/150\n",
      "425/425 [==============================] - 0s 698us/step - loss: 0.2713 - accuracy: 0.8818\n",
      "Epoch 14/150\n",
      "425/425 [==============================] - 0s 694us/step - loss: 0.2617 - accuracy: 0.8851\n",
      "Epoch 15/150\n",
      "425/425 [==============================] - 0s 719us/step - loss: 0.2504 - accuracy: 0.8988\n",
      "Epoch 16/150\n",
      "425/425 [==============================] - 0s 701us/step - loss: 0.2416 - accuracy: 0.8964\n",
      "Epoch 17/150\n",
      "425/425 [==============================] - 0s 686us/step - loss: 0.2336 - accuracy: 0.9014\n",
      "Epoch 18/150\n",
      "425/425 [==============================] - 0s 730us/step - loss: 0.2255 - accuracy: 0.9051\n",
      "Epoch 19/150\n",
      "425/425 [==============================] - 0s 759us/step - loss: 0.2160 - accuracy: 0.9101\n",
      "Epoch 20/150\n",
      "425/425 [==============================] - 0s 766us/step - loss: 0.2092 - accuracy: 0.9138\n",
      "Epoch 21/150\n",
      "425/425 [==============================] - 0s 730us/step - loss: 0.2017 - accuracy: 0.9167\n",
      "Epoch 22/150\n",
      "425/425 [==============================] - 0s 705us/step - loss: 0.1955 - accuracy: 0.9209\n",
      "Epoch 23/150\n",
      "425/425 [==============================] - 0s 728us/step - loss: 0.1902 - accuracy: 0.9216\n",
      "Epoch 24/150\n",
      "425/425 [==============================] - 0s 736us/step - loss: 0.1869 - accuracy: 0.9216\n",
      "Epoch 25/150\n",
      "425/425 [==============================] - 0s 706us/step - loss: 0.1798 - accuracy: 0.9258\n",
      "Epoch 26/150\n",
      "425/425 [==============================] - 0s 698us/step - loss: 0.1755 - accuracy: 0.9298\n",
      "Epoch 27/150\n",
      "425/425 [==============================] - 0s 702us/step - loss: 0.1695 - accuracy: 0.9315\n",
      "Epoch 28/150\n",
      "425/425 [==============================] - 0s 697us/step - loss: 0.1662 - accuracy: 0.9350\n",
      "Epoch 29/150\n",
      "425/425 [==============================] - 0s 1ms/step - loss: 0.1611 - accuracy: 0.9374\n",
      "Epoch 30/150\n",
      "425/425 [==============================] - 0s 702us/step - loss: 0.1610 - accuracy: 0.9343\n",
      "Epoch 31/150\n",
      "425/425 [==============================] - 0s 756us/step - loss: 0.1541 - accuracy: 0.9395\n",
      "Epoch 32/150\n",
      "425/425 [==============================] - 0s 726us/step - loss: 0.1515 - accuracy: 0.9444\n",
      "Epoch 33/150\n",
      "425/425 [==============================] - 0s 696us/step - loss: 0.1490 - accuracy: 0.9421\n",
      "Epoch 34/150\n",
      "425/425 [==============================] - 0s 727us/step - loss: 0.1451 - accuracy: 0.9416\n",
      "Epoch 35/150\n",
      "425/425 [==============================] - 0s 705us/step - loss: 0.1421 - accuracy: 0.9437\n",
      "Epoch 36/150\n",
      "425/425 [==============================] - 0s 721us/step - loss: 0.1418 - accuracy: 0.9437\n",
      "Epoch 37/150\n",
      "425/425 [==============================] - 0s 728us/step - loss: 0.1382 - accuracy: 0.9477\n",
      "Epoch 38/150\n",
      "425/425 [==============================] - 0s 694us/step - loss: 0.1351 - accuracy: 0.9484\n",
      "Epoch 39/150\n",
      "425/425 [==============================] - 0s 722us/step - loss: 0.1334 - accuracy: 0.9482\n",
      "Epoch 40/150\n",
      "425/425 [==============================] - 0s 702us/step - loss: 0.1334 - accuracy: 0.9506\n",
      "Epoch 41/150\n",
      "425/425 [==============================] - 0s 692us/step - loss: 0.1264 - accuracy: 0.9553\n",
      "Epoch 42/150\n",
      "425/425 [==============================] - 0s 688us/step - loss: 0.1261 - accuracy: 0.9513\n",
      "Epoch 43/150\n",
      "425/425 [==============================] - 0s 698us/step - loss: 0.1261 - accuracy: 0.9520\n",
      "Epoch 44/150\n",
      "425/425 [==============================] - 0s 695us/step - loss: 0.1245 - accuracy: 0.9529\n",
      "Epoch 45/150\n",
      "425/425 [==============================] - 0s 695us/step - loss: 0.1216 - accuracy: 0.9529\n",
      "Epoch 46/150\n",
      "425/425 [==============================] - 0s 691us/step - loss: 0.1205 - accuracy: 0.9541\n",
      "Epoch 47/150\n",
      "425/425 [==============================] - 0s 694us/step - loss: 0.1193 - accuracy: 0.9550\n",
      "Epoch 48/150\n",
      "425/425 [==============================] - 0s 746us/step - loss: 0.1175 - accuracy: 0.9557\n",
      "Epoch 49/150\n",
      "425/425 [==============================] - 0s 709us/step - loss: 0.1147 - accuracy: 0.9586\n",
      "Epoch 50/150\n",
      "425/425 [==============================] - 0s 712us/step - loss: 0.1170 - accuracy: 0.9557\n",
      "Epoch 51/150\n",
      "425/425 [==============================] - 0s 714us/step - loss: 0.1147 - accuracy: 0.9548\n",
      "Epoch 52/150\n",
      "425/425 [==============================] - 0s 783us/step - loss: 0.1116 - accuracy: 0.9586\n",
      "Epoch 53/150\n",
      "425/425 [==============================] - 0s 739us/step - loss: 0.1098 - accuracy: 0.9612\n",
      "Epoch 54/150\n",
      "425/425 [==============================] - 0s 744us/step - loss: 0.1107 - accuracy: 0.9597\n",
      "Epoch 55/150\n",
      "425/425 [==============================] - 0s 711us/step - loss: 0.1099 - accuracy: 0.9574\n",
      "Epoch 56/150\n",
      "425/425 [==============================] - 0s 693us/step - loss: 0.1093 - accuracy: 0.9600\n",
      "Epoch 57/150\n",
      "425/425 [==============================] - 0s 728us/step - loss: 0.1055 - accuracy: 0.9645\n",
      "Epoch 58/150\n",
      "425/425 [==============================] - 0s 710us/step - loss: 0.1045 - accuracy: 0.9602\n",
      "Epoch 59/150\n",
      "425/425 [==============================] - 0s 707us/step - loss: 0.1035 - accuracy: 0.9614\n",
      "Epoch 60/150\n",
      "425/425 [==============================] - 0s 708us/step - loss: 0.1042 - accuracy: 0.9621\n",
      "Epoch 61/150\n",
      "425/425 [==============================] - 0s 710us/step - loss: 0.1031 - accuracy: 0.9614\n",
      "Epoch 62/150\n",
      "425/425 [==============================] - 0s 723us/step - loss: 0.1019 - accuracy: 0.9637\n",
      "Epoch 63/150\n",
      "425/425 [==============================] - 0s 786us/step - loss: 0.0994 - accuracy: 0.9656\n",
      "Epoch 64/150\n",
      "425/425 [==============================] - 0s 775us/step - loss: 0.1006 - accuracy: 0.9612\n",
      "Epoch 65/150\n",
      "425/425 [==============================] - 0s 727us/step - loss: 0.0984 - accuracy: 0.9626\n",
      "Epoch 66/150\n",
      "425/425 [==============================] - 0s 719us/step - loss: 0.0956 - accuracy: 0.9668\n",
      "Epoch 67/150\n",
      "425/425 [==============================] - 0s 721us/step - loss: 0.0953 - accuracy: 0.9645\n",
      "Epoch 68/150\n",
      "425/425 [==============================] - 0s 692us/step - loss: 0.0965 - accuracy: 0.9647\n",
      "Epoch 69/150\n",
      "425/425 [==============================] - 0s 697us/step - loss: 0.0950 - accuracy: 0.9666\n",
      "Epoch 70/150\n",
      "425/425 [==============================] - 0s 701us/step - loss: 0.0920 - accuracy: 0.9649\n",
      "Epoch 71/150\n",
      "425/425 [==============================] - 0s 702us/step - loss: 0.0938 - accuracy: 0.9652\n",
      "Epoch 72/150\n",
      "425/425 [==============================] - 0s 693us/step - loss: 0.0914 - accuracy: 0.9666\n",
      "Epoch 73/150\n",
      "425/425 [==============================] - 0s 699us/step - loss: 0.0906 - accuracy: 0.9645\n",
      "Epoch 74/150\n",
      "425/425 [==============================] - 0s 700us/step - loss: 0.0932 - accuracy: 0.9680\n",
      "Epoch 75/150\n",
      "425/425 [==============================] - 0s 692us/step - loss: 0.0892 - accuracy: 0.9689\n",
      "Epoch 76/150\n",
      "425/425 [==============================] - 0s 691us/step - loss: 0.0871 - accuracy: 0.9682\n",
      "Epoch 77/150\n",
      "425/425 [==============================] - 0s 695us/step - loss: 0.0863 - accuracy: 0.9699\n",
      "Epoch 78/150\n",
      "425/425 [==============================] - 0s 702us/step - loss: 0.0855 - accuracy: 0.9708\n",
      "Epoch 79/150\n"
     ]
    },
    {
     "name": "stdout",
     "output_type": "stream",
     "text": [
      "425/425 [==============================] - 0s 677us/step - loss: 0.0854 - accuracy: 0.9706\n",
      "Epoch 80/150\n",
      "425/425 [==============================] - 0s 739us/step - loss: 0.0835 - accuracy: 0.9699\n",
      "Epoch 81/150\n",
      "425/425 [==============================] - 0s 686us/step - loss: 0.0842 - accuracy: 0.9696\n",
      "Epoch 82/150\n",
      "425/425 [==============================] - 0s 746us/step - loss: 0.0840 - accuracy: 0.9699\n",
      "Epoch 83/150\n",
      "425/425 [==============================] - 0s 685us/step - loss: 0.0840 - accuracy: 0.9710\n",
      "Epoch 84/150\n",
      "425/425 [==============================] - 0s 720us/step - loss: 0.0816 - accuracy: 0.9694\n",
      "Epoch 85/150\n",
      "425/425 [==============================] - 0s 732us/step - loss: 0.0814 - accuracy: 0.9715\n",
      "Epoch 86/150\n",
      "425/425 [==============================] - 0s 674us/step - loss: 0.0788 - accuracy: 0.9736\n",
      "Epoch 87/150\n",
      "425/425 [==============================] - 0s 668us/step - loss: 0.0804 - accuracy: 0.9692\n",
      "Epoch 88/150\n",
      "425/425 [==============================] - 0s 694us/step - loss: 0.0823 - accuracy: 0.9682\n",
      "Epoch 89/150\n",
      "425/425 [==============================] - 0s 685us/step - loss: 0.0792 - accuracy: 0.9701\n",
      "Epoch 90/150\n",
      "425/425 [==============================] - 0s 670us/step - loss: 0.0794 - accuracy: 0.9710\n",
      "Epoch 91/150\n",
      "425/425 [==============================] - 0s 675us/step - loss: 0.0769 - accuracy: 0.9713\n",
      "Epoch 92/150\n",
      "425/425 [==============================] - 0s 669us/step - loss: 0.0769 - accuracy: 0.9748\n",
      "Epoch 93/150\n",
      "425/425 [==============================] - 0s 741us/step - loss: 0.0784 - accuracy: 0.9727\n",
      "Epoch 94/150\n",
      "425/425 [==============================] - 0s 723us/step - loss: 0.0755 - accuracy: 0.9739\n",
      "Epoch 95/150\n",
      "425/425 [==============================] - 0s 760us/step - loss: 0.0738 - accuracy: 0.9736\n",
      "Epoch 96/150\n",
      "425/425 [==============================] - 0s 708us/step - loss: 0.0752 - accuracy: 0.9720\n",
      "Epoch 97/150\n",
      "425/425 [==============================] - 0s 754us/step - loss: 0.0732 - accuracy: 0.9732\n",
      "Epoch 98/150\n",
      "425/425 [==============================] - 0s 721us/step - loss: 0.0733 - accuracy: 0.9725\n",
      "Epoch 99/150\n",
      "425/425 [==============================] - 0s 763us/step - loss: 0.0754 - accuracy: 0.9734\n",
      "Epoch 100/150\n",
      "425/425 [==============================] - 0s 753us/step - loss: 0.0717 - accuracy: 0.9741\n",
      "Epoch 101/150\n",
      "425/425 [==============================] - 0s 700us/step - loss: 0.0721 - accuracy: 0.9713\n",
      "Epoch 102/150\n",
      "425/425 [==============================] - 0s 701us/step - loss: 0.0710 - accuracy: 0.9755\n",
      "Epoch 103/150\n",
      "425/425 [==============================] - 0s 693us/step - loss: 0.0715 - accuracy: 0.9741\n",
      "Epoch 104/150\n",
      "425/425 [==============================] - 0s 718us/step - loss: 0.0711 - accuracy: 0.9755\n",
      "Epoch 105/150\n",
      "425/425 [==============================] - 0s 690us/step - loss: 0.0685 - accuracy: 0.9765\n",
      "Epoch 106/150\n",
      "425/425 [==============================] - 0s 705us/step - loss: 0.0686 - accuracy: 0.9755\n",
      "Epoch 107/150\n",
      "425/425 [==============================] - 0s 705us/step - loss: 0.0704 - accuracy: 0.9753\n",
      "Epoch 108/150\n",
      "425/425 [==============================] - 0s 711us/step - loss: 0.0696 - accuracy: 0.9736\n",
      "Epoch 109/150\n",
      "425/425 [==============================] - 0s 710us/step - loss: 0.0677 - accuracy: 0.9750\n",
      "Epoch 110/150\n",
      "425/425 [==============================] - 0s 699us/step - loss: 0.0662 - accuracy: 0.9769\n",
      "Epoch 111/150\n",
      "425/425 [==============================] - 0s 724us/step - loss: 0.0677 - accuracy: 0.9753\n",
      "Epoch 112/150\n",
      "425/425 [==============================] - 0s 730us/step - loss: 0.0653 - accuracy: 0.9750\n",
      "Epoch 113/150\n",
      "425/425 [==============================] - 0s 760us/step - loss: 0.0666 - accuracy: 0.9758\n",
      "Epoch 114/150\n",
      "425/425 [==============================] - 0s 702us/step - loss: 0.0650 - accuracy: 0.9786\n",
      "Epoch 115/150\n",
      "425/425 [==============================] - 0s 685us/step - loss: 0.0647 - accuracy: 0.9758\n",
      "Epoch 116/150\n",
      "425/425 [==============================] - 0s 690us/step - loss: 0.0670 - accuracy: 0.9746\n",
      "Epoch 117/150\n",
      "425/425 [==============================] - 0s 696us/step - loss: 0.0651 - accuracy: 0.9765\n",
      "Epoch 118/150\n",
      "425/425 [==============================] - 0s 698us/step - loss: 0.0630 - accuracy: 0.9788\n",
      "Epoch 119/150\n",
      "425/425 [==============================] - 0s 716us/step - loss: 0.0633 - accuracy: 0.9762\n",
      "Epoch 120/150\n",
      "425/425 [==============================] - 0s 698us/step - loss: 0.0623 - accuracy: 0.9783\n",
      "Epoch 121/150\n",
      "425/425 [==============================] - 0s 708us/step - loss: 0.0645 - accuracy: 0.9779\n",
      "Epoch 122/150\n",
      "425/425 [==============================] - 0s 755us/step - loss: 0.0619 - accuracy: 0.9781\n",
      "Epoch 123/150\n",
      "425/425 [==============================] - 0s 720us/step - loss: 0.0619 - accuracy: 0.9776\n",
      "Epoch 124/150\n",
      "425/425 [==============================] - 0s 707us/step - loss: 0.0614 - accuracy: 0.9783\n",
      "Epoch 125/150\n",
      "425/425 [==============================] - 0s 694us/step - loss: 0.0614 - accuracy: 0.9774\n",
      "Epoch 126/150\n",
      "425/425 [==============================] - 0s 699us/step - loss: 0.0612 - accuracy: 0.9790\n",
      "Epoch 127/150\n",
      "425/425 [==============================] - 0s 768us/step - loss: 0.0621 - accuracy: 0.9755\n",
      "Epoch 128/150\n",
      "425/425 [==============================] - 0s 693us/step - loss: 0.0615 - accuracy: 0.9765\n",
      "Epoch 129/150\n",
      "425/425 [==============================] - 0s 689us/step - loss: 0.0597 - accuracy: 0.9779\n",
      "Epoch 130/150\n",
      "425/425 [==============================] - 0s 743us/step - loss: 0.0597 - accuracy: 0.9774\n",
      "Epoch 131/150\n",
      "425/425 [==============================] - 0s 738us/step - loss: 0.0594 - accuracy: 0.9786\n",
      "Epoch 132/150\n",
      "425/425 [==============================] - 0s 697us/step - loss: 0.0590 - accuracy: 0.9774\n",
      "Epoch 133/150\n",
      "425/425 [==============================] - 0s 701us/step - loss: 0.0580 - accuracy: 0.9774\n",
      "Epoch 134/150\n",
      "425/425 [==============================] - 0s 733us/step - loss: 0.0596 - accuracy: 0.9776\n",
      "Epoch 135/150\n",
      "425/425 [==============================] - 0s 706us/step - loss: 0.0566 - accuracy: 0.9826\n",
      "Epoch 136/150\n",
      "425/425 [==============================] - 0s 694us/step - loss: 0.0582 - accuracy: 0.9798\n",
      "Epoch 137/150\n",
      "425/425 [==============================] - 0s 694us/step - loss: 0.0573 - accuracy: 0.9788\n",
      "Epoch 138/150\n",
      "425/425 [==============================] - 0s 691us/step - loss: 0.0555 - accuracy: 0.9802\n",
      "Epoch 139/150\n",
      "425/425 [==============================] - 0s 696us/step - loss: 0.0545 - accuracy: 0.9807\n",
      "Epoch 140/150\n",
      "425/425 [==============================] - 0s 697us/step - loss: 0.0581 - accuracy: 0.9807\n",
      "Epoch 141/150\n",
      "425/425 [==============================] - 0s 698us/step - loss: 0.0553 - accuracy: 0.9800\n",
      "Epoch 142/150\n",
      "425/425 [==============================] - 0s 693us/step - loss: 0.0552 - accuracy: 0.9807\n",
      "Epoch 143/150\n",
      "425/425 [==============================] - 0s 697us/step - loss: 0.0551 - accuracy: 0.9790\n",
      "Epoch 144/150\n",
      "425/425 [==============================] - 0s 691us/step - loss: 0.0535 - accuracy: 0.9816\n",
      "Epoch 145/150\n",
      "425/425 [==============================] - 0s 691us/step - loss: 0.0552 - accuracy: 0.9805\n",
      "Epoch 146/150\n",
      "425/425 [==============================] - 0s 747us/step - loss: 0.0534 - accuracy: 0.9807\n",
      "Epoch 147/150\n",
      "425/425 [==============================] - 0s 702us/step - loss: 0.0547 - accuracy: 0.9793\n",
      "Epoch 148/150\n",
      "425/425 [==============================] - 0s 717us/step - loss: 0.0554 - accuracy: 0.9798\n",
      "Epoch 149/150\n",
      "425/425 [==============================] - 0s 731us/step - loss: 0.0522 - accuracy: 0.9823\n",
      "Epoch 150/150\n",
      "425/425 [==============================] - 0s 726us/step - loss: 0.0511 - accuracy: 0.9823\n"
     ]
    },
    {
     "data": {
      "text/plain": [
       "<keras.callbacks.History at 0x7fa27d25ae80>"
      ]
     },
     "execution_count": 6,
     "metadata": {},
     "output_type": "execute_result"
    }
   ],
   "source": [
    "# Fit the keras model on the dataset\n",
    "model.fit(data_train, labels_train, epochs=150, batch_size=10)"
   ]
  },
  {
   "cell_type": "markdown",
   "metadata": {},
   "source": [
    "# Evaluate Keras Model"
   ]
  },
  {
   "cell_type": "code",
   "execution_count": 7,
   "metadata": {
    "scrolled": true
   },
   "outputs": [
    {
     "name": "stdout",
     "output_type": "stream",
     "text": [
      "34/34 [==============================] - 0s 713us/step - loss: 0.0724 - accuracy: 0.9727\n",
      "Accuracy: 97.27\n"
     ]
    }
   ],
   "source": [
    "# Evaluate the keras model\n",
    "_, accuracy = model.evaluate(data_test, labels_test)\n",
    "print('Accuracy: %.2f' % (accuracy*100))"
   ]
  },
  {
   "cell_type": "markdown",
   "metadata": {},
   "source": [
    "# Make Predictions"
   ]
  },
  {
   "cell_type": "code",
   "execution_count": 34,
   "metadata": {},
   "outputs": [
    {
     "name": "stdout",
     "output_type": "stream",
     "text": [
      "[[4.89e-01 9.79e-01 8.29e-02 1.94e-05 1.18e-05 1.52e-01 5.83e-01]]\n"
     ]
    }
   ],
   "source": [
    "single_song = np.array([[0.38,0.61,0.0359,0.616,4.72e-05,0.221,0.431]]) # yes\n",
    "single_song = np.array([[0.489,0.979,0.0829,1.94e-05,1.18e-05,0.152,0.583]]) # no\n",
    "\n",
    "print(single_song)"
   ]
  },
  {
   "cell_type": "code",
   "execution_count": 35,
   "metadata": {},
   "outputs": [
    {
     "data": {
      "text/plain": [
       "array([[0.]], dtype=float32)"
      ]
     },
     "execution_count": 35,
     "metadata": {},
     "output_type": "execute_result"
    }
   ],
   "source": [
    "predict_x=model.predict(single_song) \n",
    "classes_x=np.round(model.predict(single_song),0)\n",
    "classes_x"
   ]
  }
 ],
 "metadata": {
  "kernelspec": {
   "display_name": "Python 3",
   "language": "python",
   "name": "python3"
  },
  "language_info": {
   "codemirror_mode": {
    "name": "ipython",
    "version": 3
   },
   "file_extension": ".py",
   "mimetype": "text/x-python",
   "name": "python",
   "nbconvert_exporter": "python",
   "pygments_lexer": "ipython3",
   "version": "3.7.2"
  },
  "toc": {
   "base_numbering": 1,
   "nav_menu": {},
   "number_sections": true,
   "sideBar": true,
   "skip_h1_title": false,
   "title_cell": "Table of Contents",
   "title_sidebar": "Contents",
   "toc_cell": false,
   "toc_position": {},
   "toc_section_display": true,
   "toc_window_display": false
  }
 },
 "nbformat": 4,
 "nbformat_minor": 4
}
